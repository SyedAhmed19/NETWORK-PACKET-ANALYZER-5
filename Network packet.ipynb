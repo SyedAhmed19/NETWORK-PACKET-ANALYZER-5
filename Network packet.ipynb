{
 "cells": [
  {
   "cell_type": "code",
   "execution_count": 1,
   "id": "93faf053-5cbe-4d19-a91e-75e16f61b042",
   "metadata": {},
   "outputs": [
    {
     "name": "stdout",
     "output_type": "stream",
     "text": [
      "Requirement already satisfied: scapy in c:\\users\\desktop\\appdata\\local\\programs\\python\\python312\\lib\\site-packages (2.5.0)\n",
      "Note: you may need to restart the kernel to use updated packages.\n"
     ]
    }
   ],
   "source": [
    "pip install scapy"
   ]
  },
  {
   "cell_type": "code",
   "execution_count": null,
   "id": "62e9db61-c26e-42ed-b2fd-534328e5c428",
   "metadata": {},
   "outputs": [
    {
     "name": "stdout",
     "output_type": "stream",
     "text": [
      "Server started on port 8080\n"
     ]
    }
   ],
   "source": [
    "import socket\n",
    "\n",
    "def start_server(port):\n",
    "    try:\n",
    "        server_socket = socket.socket(socket.AF_INET, socket.SOCK_STREAM)\n",
    "        server_socket.bind(('0.0.0.0', port))  # Bind to all interfaces\n",
    "        server_socket.listen(5)\n",
    "        print(f\"Server started on port {port}\")\n",
    "        \n",
    "        while True:\n",
    "            client_socket, addr = server_socket.accept()\n",
    "            print(f\"Connection from {addr}\")\n",
    "            # Handle client connection\n",
    "            client_socket.close()\n",
    "    \n",
    "    except PermissionError as e:\n",
    "        print(f\"Permission error: {e}\")\n",
    "    except OSError as e:\n",
    "        print(f\"OS error: {e}\")\n",
    "    finally:\n",
    "        server_socket.close()\n",
    "\n",
    "if __name__ == \"__main__\":\n",
    "    start_server(8080)  # Change to the desired port\n"
   ]
  },
  {
   "cell_type": "code",
   "execution_count": null,
   "id": "35f1fc41-0654-4ffa-8412-cdb03816edc2",
   "metadata": {},
   "outputs": [],
   "source": [
    "import socket\n",
    "import struct\n",
    "import binascii\n",
    "\n",
    "def parse_packet(packet):\n",
    "    # Parse the Ethernet header\n",
    "    eth_header = packet[:14]\n",
    "    eth_dst, eth_src, eth_type = struct.unpack('!6s6sH', eth_header)\n",
    "    eth_dst = binascii.hexlify(eth_dst).decode()\n",
    "    eth_src = binascii.hexlify(eth_src).decode()\n",
    "    eth_type = hex(eth_type)\n",
    "\n",
    "    # Parse the IP header\n",
    "    ip_header = packet[14:34]\n",
    "    ip_header_unpack = struct.unpack('!BBHHHBBH4s4s', ip_header)\n",
    "    ip_version = ip_header_unpack[0] >> 4\n",
    "    ip_ihl = ip_header_unpack[0] & 0xF\n",
    "    ip_ttl = ip_header_unpack[5]\n",
    "    ip_proto = ip_header_unpack[6]\n",
    "    ip_src = socket.inet_ntoa(ip_header_unpack[8])\n",
    "    ip_dst = socket.inet_ntoa(ip_header_unpack[9])\n",
    "\n",
    "    # Parse the TCP header\n",
    "    tcp_header = packet[34:54]\n",
    "    tcp_header_unpack = struct.unpack('!HHLLBBHHH', tcp_header)\n",
    "    tcp_src_port = tcp_header_unpack[0]\n",
    "    tcp_dst_port = tcp_header_unpack[1]\n",
    "    tcp_seq_num = tcp_header_unpack[2]\n",
    "    tcp_ack_num = tcp_header_unpack[3]\n",
    "    tcp_offset = tcp_header_unpack[4] >> 4\n",
    "    tcp_flags = tcp_header_unpack[5]\n",
    "\n",
    "    # Print the packet information\n",
    "    print(f\"Ethernet Header: Src {eth_src}, Dst {eth_dst}, Type {eth_type}\")\n",
    "    print(f\"IP Header: Version {ip_version}, IHL {ip_ihl}, TTL {ip_ttl}, Protocol {ip_proto}, Src {ip_src}, Dst {ip_dst}\")\n",
    "    print(f\"TCP Header: Src Port {tcp_src_port}, Dst Port {tcp_dst_port}, Seq Num {tcp_seq_num}, Ack Num {tcp_ack_num}, Offset {tcp_offset}, Flags {tcp_flags}\")\n",
    "    print()\n",
    "\n",
    "def start_sniffer():\n",
    "    # Create a raw socket\n",
    "    sock = socket.socket(socket.AF_INET, socket.SOCK_RAW, socket.IPPROTO_TCP)\n",
    "\n",
    "    while True:\n",
    "        # Receive a packet\n",
    "        packet = sock.recvfrom(65565)[0]\n",
    "        parse_packet(packet)\n",
    "\n",
    "if __name__ == \"__main__\":\n",
    "    start_sniffer()\n"
   ]
  },
  {
   "cell_type": "code",
   "execution_count": null,
   "id": "c6356d7f-9531-4e04-a21c-413687dcd8fa",
   "metadata": {},
   "outputs": [],
   "source": [
    "pip install --upgrade scapy\n"
   ]
  },
  {
   "cell_type": "code",
   "execution_count": null,
   "id": "52919887-37b0-4fc3-9c25-572c07f84601",
   "metadata": {},
   "outputs": [],
   "source": []
  }
 ],
 "metadata": {
  "kernelspec": {
   "display_name": "Python 3 (ipykernel)",
   "language": "python",
   "name": "python3"
  },
  "language_info": {
   "codemirror_mode": {
    "name": "ipython",
    "version": 3
   },
   "file_extension": ".py",
   "mimetype": "text/x-python",
   "name": "python",
   "nbconvert_exporter": "python",
   "pygments_lexer": "ipython3",
   "version": "3.12.3"
  }
 },
 "nbformat": 4,
 "nbformat_minor": 5
}
